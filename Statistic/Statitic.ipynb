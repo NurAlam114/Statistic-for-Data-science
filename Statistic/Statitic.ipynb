{
 "cells": [
  {
   "cell_type": "markdown",
   "id": "0ca5efd0",
   "metadata": {},
   "source": [
    "**mean**"
   ]
  },
  {
   "cell_type": "code",
   "execution_count": 2,
   "id": "f703f92e",
   "metadata": {},
   "outputs": [],
   "source": [
    "import numpy as np\n",
    "import pandas as pd\n",
    "import matplotlib.pyplot as plt\n",
    "import seaborn as sns\n",
    "import scipy.stats as st"
   ]
  },
  {
   "cell_type": "code",
   "execution_count": 3,
   "id": "a60cd12a",
   "metadata": {},
   "outputs": [],
   "source": [
    "ar = np.array([4,3,4,2,5,6,7,8])"
   ]
  },
  {
   "cell_type": "code",
   "execution_count": 4,
   "id": "125c9d0c",
   "metadata": {},
   "outputs": [
    {
     "data": {
      "text/plain": [
       "np.float64(4.875)"
      ]
     },
     "execution_count": 4,
     "metadata": {},
     "output_type": "execute_result"
    }
   ],
   "source": [
    "np.sum(ar)/len(ar)"
   ]
  },
  {
   "cell_type": "markdown",
   "id": "8db7b15e",
   "metadata": {},
   "source": [
    "**mean with numpy function**\n"
   ]
  },
  {
   "cell_type": "code",
   "execution_count": 5,
   "id": "f7cc02cf",
   "metadata": {},
   "outputs": [
    {
     "data": {
      "text/plain": [
       "np.float64(4.875)"
      ]
     },
     "execution_count": 5,
     "metadata": {},
     "output_type": "execute_result"
    }
   ],
   "source": [
    "np.mean(ar)"
   ]
  },
  {
   "cell_type": "code",
   "execution_count": 6,
   "id": "ec87ad2f",
   "metadata": {},
   "outputs": [],
   "source": [
    "dataset = pd.read_csv(\"marks.csv\")"
   ]
  },
  {
   "cell_type": "code",
   "execution_count": 7,
   "id": "4a4cc64b",
   "metadata": {},
   "outputs": [
    {
     "data": {
      "text/html": [
       "<div>\n",
       "<style scoped>\n",
       "    .dataframe tbody tr th:only-of-type {\n",
       "        vertical-align: middle;\n",
       "    }\n",
       "\n",
       "    .dataframe tbody tr th {\n",
       "        vertical-align: top;\n",
       "    }\n",
       "\n",
       "    .dataframe thead th {\n",
       "        text-align: right;\n",
       "    }\n",
       "</style>\n",
       "<table border=\"1\" class=\"dataframe\">\n",
       "  <thead>\n",
       "    <tr style=\"text-align: right;\">\n",
       "      <th></th>\n",
       "      <th>Unnamed: 0</th>\n",
       "      <th>Name</th>\n",
       "      <th>Age</th>\n",
       "      <th>Marks</th>\n",
       "    </tr>\n",
       "  </thead>\n",
       "  <tbody>\n",
       "    <tr>\n",
       "      <th>0</th>\n",
       "      <td>0</td>\n",
       "      <td>nabil</td>\n",
       "      <td>23</td>\n",
       "      <td>98</td>\n",
       "    </tr>\n",
       "    <tr>\n",
       "      <th>1</th>\n",
       "      <td>1</td>\n",
       "      <td>nur</td>\n",
       "      <td>22</td>\n",
       "      <td>95</td>\n",
       "    </tr>\n",
       "    <tr>\n",
       "      <th>2</th>\n",
       "      <td>2</td>\n",
       "      <td>muttakin</td>\n",
       "      <td>24</td>\n",
       "      <td>90</td>\n",
       "    </tr>\n",
       "    <tr>\n",
       "      <th>3</th>\n",
       "      <td>3</td>\n",
       "      <td>hamza</td>\n",
       "      <td>25</td>\n",
       "      <td>92</td>\n",
       "    </tr>\n",
       "  </tbody>\n",
       "</table>\n",
       "</div>"
      ],
      "text/plain": [
       "   Unnamed: 0      Name  Age  Marks\n",
       "0           0     nabil   23     98\n",
       "1           1       nur   22     95\n",
       "2           2  muttakin   24     90\n",
       "3           3     hamza   25     92"
      ]
     },
     "execution_count": 7,
     "metadata": {},
     "output_type": "execute_result"
    }
   ],
   "source": [
    "dataset"
   ]
  },
  {
   "cell_type": "code",
   "execution_count": 8,
   "id": "85b4a894",
   "metadata": {},
   "outputs": [
    {
     "data": {
      "text/plain": [
       "np.float64(23.5)"
      ]
     },
     "execution_count": 8,
     "metadata": {},
     "output_type": "execute_result"
    }
   ],
   "source": [
    "dataset[\"Age\"].mean()"
   ]
  },
  {
   "cell_type": "code",
   "execution_count": 9,
   "id": "7941f6c2",
   "metadata": {},
   "outputs": [],
   "source": [
    "mn = np.mean(dataset['Age'])"
   ]
  },
  {
   "cell_type": "code",
   "execution_count": 10,
   "id": "6293aa63",
   "metadata": {},
   "outputs": [
    {
     "data": {
      "text/plain": [
       "np.float64(23.5)"
      ]
     },
     "execution_count": 10,
     "metadata": {},
     "output_type": "execute_result"
    }
   ],
   "source": [
    "mn"
   ]
  },
  {
   "cell_type": "code",
   "execution_count": 11,
   "id": "9980e3c5",
   "metadata": {},
   "outputs": [],
   "source": [
    "md = np.median(dataset['Marks'])"
   ]
  },
  {
   "cell_type": "code",
   "execution_count": 12,
   "id": "52877b24",
   "metadata": {},
   "outputs": [
    {
     "data": {
      "text/plain": [
       "np.float64(93.5)"
      ]
     },
     "execution_count": 12,
     "metadata": {},
     "output_type": "execute_result"
    }
   ],
   "source": [
    "md"
   ]
  },
  {
   "cell_type": "code",
   "execution_count": 13,
   "id": "3fdb1738",
   "metadata": {},
   "outputs": [
    {
     "data": {
      "text/plain": [
       "<Axes: xlabel='Age', ylabel='Count'>"
      ]
     },
     "execution_count": 13,
     "metadata": {},
     "output_type": "execute_result"
    },
    {
     "data": {
      "image/png": "[encoded data removed]",
      "text/plain": [
       "<Figure size 640x480 with 1 Axes>"
      ]
     },
     "metadata": {},
     "output_type": "display_data"
    }
   ],
   "source": [
    "sns.histplot(x='Age',data=dataset, bins=[i for i in range(0,40,6) ])"
   ]
  },
  {
   "cell_type": "code",
   "execution_count": 14,
   "id": "a4380d61",
   "metadata": {},
   "outputs": [
    {
     "data": {
      "text/plain": [
       "[<matplotlib.lines.Line2D at 0x15dd16fc3a0>]"
      ]
     },
     "execution_count": 14,
     "metadata": {},
     "output_type": "execute_result"
    },
    {
     "data": {
      "image/png": "[encoded data removed]",
      "text/plain": [
       "<Figure size 640x480 with 1 Axes>"
      ]
     },
     "metadata": {},
     "output_type": "display_data"
    }
   ],
   "source": [
    "sns.histplot(x='Age',data=dataset, bins=[i for i in range(0,40,5) ])\n",
    "plt.plot([mn for i in range (0,5)],[i for i in range (0,5)], c=\"red\")"
   ]
  },
  {
   "cell_type": "code",
   "execution_count": 15,
   "id": "2b388ff7",
   "metadata": {},
   "outputs": [
    {
     "data": {
      "text/html": [
       "<div>\n",
       "<style scoped>\n",
       "    .dataframe tbody tr th:only-of-type {\n",
       "        vertical-align: middle;\n",
       "    }\n",
       "\n",
       "    .dataframe tbody tr th {\n",
       "        vertical-align: top;\n",
       "    }\n",
       "\n",
       "    .dataframe thead th {\n",
       "        text-align: right;\n",
       "    }\n",
       "</style>\n",
       "<table border=\"1\" class=\"dataframe\">\n",
       "  <thead>\n",
       "    <tr style=\"text-align: right;\">\n",
       "      <th></th>\n",
       "      <th>Unnamed: 0</th>\n",
       "      <th>Name</th>\n",
       "      <th>Age</th>\n",
       "      <th>Marks</th>\n",
       "    </tr>\n",
       "  </thead>\n",
       "  <tbody>\n",
       "    <tr>\n",
       "      <th>0</th>\n",
       "      <td>0</td>\n",
       "      <td>nabil</td>\n",
       "      <td>23</td>\n",
       "      <td>98</td>\n",
       "    </tr>\n",
       "    <tr>\n",
       "      <th>1</th>\n",
       "      <td>1</td>\n",
       "      <td>nur</td>\n",
       "      <td>22</td>\n",
       "      <td>95</td>\n",
       "    </tr>\n",
       "    <tr>\n",
       "      <th>2</th>\n",
       "      <td>2</td>\n",
       "      <td>muttakin</td>\n",
       "      <td>24</td>\n",
       "      <td>90</td>\n",
       "    </tr>\n",
       "    <tr>\n",
       "      <th>3</th>\n",
       "      <td>3</td>\n",
       "      <td>hamza</td>\n",
       "      <td>25</td>\n",
       "      <td>92</td>\n",
       "    </tr>\n",
       "  </tbody>\n",
       "</table>\n",
       "</div>"
      ],
      "text/plain": [
       "   Unnamed: 0      Name  Age  Marks\n",
       "0           0     nabil   23     98\n",
       "1           1       nur   22     95\n",
       "2           2  muttakin   24     90\n",
       "3           3     hamza   25     92"
      ]
     },
     "execution_count": 15,
     "metadata": {},
     "output_type": "execute_result"
    }
   ],
   "source": [
    "dataset"
   ]
  },
  {
   "cell_type": "code",
   "execution_count": 16,
   "id": "018d15b4",
   "metadata": {},
   "outputs": [
    {
     "data": {
      "text/plain": [
       "[<matplotlib.lines.Line2D at 0x15dd1789ee0>]"
      ]
     },
     "execution_count": 16,
     "metadata": {},
     "output_type": "execute_result"
    },
    {
     "data": {
      "image/png": "[encoded data removed]",
      "text/plain": [
       "<Figure size 640x480 with 1 Axes>"
      ]
     },
     "metadata": {},
     "output_type": "display_data"
    }
   ],
   "source": [
    "sns.histplot(x='Age',data=dataset, bins=[i for i in range(0,40,5) ])\n",
    "plt.plot([mn for i in range (0,5)],[i for i in range (0,5)], c=\"red\")\n",
    "sns.histplot(x='Marks', data=dataset,bins=[i for i in range(0,100,2) ])\n",
    "plt.plot([md for i in range (0,5)],[i for i in range (0,5)], c=\"green\")"
   ]
  },
  {
   "cell_type": "code",
   "execution_count": 17,
   "id": "ea7ea5f6",
   "metadata": {},
   "outputs": [
    {
     "data": {
      "text/plain": [
       "np.float64(23.5)"
      ]
     },
     "execution_count": 17,
     "metadata": {},
     "output_type": "execute_result"
    }
   ],
   "source": [
    "np.median (dataset[\"Age\"])"
   ]
  },
  {
   "cell_type": "code",
   "execution_count": 18,
   "id": "a60fe6ec",
   "metadata": {},
   "outputs": [
    {
     "data": {
      "text/plain": [
       "np.float64(93.5)"
      ]
     },
     "execution_count": 18,
     "metadata": {},
     "output_type": "execute_result"
    }
   ],
   "source": [
    "np.median(dataset['Marks'])"
   ]
  },
  {
   "cell_type": "markdown",
   "id": "5907f4a1",
   "metadata": {},
   "source": [
    "**Range**"
   ]
  },
  {
   "cell_type": "code",
   "execution_count": 19,
   "id": "2c5758d7",
   "metadata": {},
   "outputs": [
    {
     "data": {
      "text/plain": [
       "(np.int64(22), np.int64(25))"
      ]
     },
     "execution_count": 19,
     "metadata": {},
     "output_type": "execute_result"
    }
   ],
   "source": [
    "min_r = dataset['Age'].min()\n",
    "max_r = dataset['Age'].max()\n",
    "min_r,max_r"
   ]
  },
  {
   "cell_type": "code",
   "execution_count": 20,
   "id": "f3dca4bb",
   "metadata": {},
   "outputs": [
    {
     "data": {
      "text/plain": [
       "np.int64(3)"
      ]
     },
     "execution_count": 20,
     "metadata": {},
     "output_type": "execute_result"
    }
   ],
   "source": [
    "Range = max_r - min_r\n",
    "Range"
   ]
  },
  {
   "cell_type": "markdown",
   "id": "d2d671e0",
   "metadata": {},
   "source": [
    "***Mean absulate deviation***\n"
   ]
  },
  {
   "cell_type": "code",
   "execution_count": 21,
   "id": "1e260ecd",
   "metadata": {},
   "outputs": [],
   "source": [
    "sec_a = np.array([75,65,73,68,72,76])\n",
    "sec_b = np.array([90,47,43,96,93,51])\n",
    "num = np.array([1,2,3,4,5,6])"
   ]
  },
  {
   "cell_type": "code",
   "execution_count": 22,
   "id": "6bf2a57e",
   "metadata": {},
   "outputs": [
    {
     "data": {
      "text/plain": [
       "np.float64(70.0)"
      ]
     },
     "execution_count": 22,
     "metadata": {},
     "output_type": "execute_result"
    }
   ],
   "source": [
    "mean=np.mean(sec_b)\n",
    "mean"
   ]
  },
  {
   "cell_type": "code",
   "execution_count": 23,
   "id": "0cf655d8",
   "metadata": {},
   "outputs": [
    {
     "data": {
      "text/plain": [
       "<matplotlib.legend.Legend at 0x15dd1925850>"
      ]
     },
     "execution_count": 23,
     "metadata": {},
     "output_type": "execute_result"
    },
    {
     "data": {
      "image/png": "[encoded data removed]",
      "text/plain": [
       "<Figure size 640x480 with 1 Axes>"
      ]
     },
     "metadata": {},
     "output_type": "display_data"
    }
   ],
   "source": [
    "plt.scatter(sec_a,num,label = 'sec A')\n",
    "plt.scatter(sec_b,num,color='red',label='sec B')\n",
    "plt.plot([mean for i in range(1,7)],num,c='blue',label = 'mean')\n",
    "plt.legend()\n"
   ]
  },
  {
   "cell_type": "markdown",
   "id": "7d737bad",
   "metadata": {},
   "source": [
    "**with formula**\n"
   ]
  },
  {
   "cell_type": "code",
   "execution_count": 24,
   "id": "ae160931",
   "metadata": {},
   "outputs": [
    {
     "data": {
      "text/plain": [
       "(np.float64(3.8333333333333335), np.float64(23.0))"
      ]
     },
     "execution_count": 24,
     "metadata": {},
     "output_type": "execute_result"
    }
   ],
   "source": [
    "mad_a = np.sum(np.abs(sec_a-mean))/len(sec_a)\n",
    "mad_b = np.sum(np.abs(sec_b-mean))/len(sec_b)\n",
    "mad_a,mad_b"
   ]
  },
  {
   "cell_type": "markdown",
   "id": "6db89068",
   "metadata": {},
   "source": [
    "**standerd deviation and varience**\n",
    "\n",
    "**std ke squre korle varience pabo**"
   ]
  },
  {
   "cell_type": "code",
   "execution_count": 25,
   "id": "effcc512",
   "metadata": {},
   "outputs": [
    {
     "data": {
      "text/plain": [
       "(np.float64(3.8622100754188224), np.float64(23.18045153428495))"
      ]
     },
     "execution_count": 25,
     "metadata": {},
     "output_type": "execute_result"
    }
   ],
   "source": [
    "np.std(sec_a), np.std(sec_b)"
   ]
  },
  {
   "cell_type": "code",
   "execution_count": 26,
   "id": "fe79111a",
   "metadata": {},
   "outputs": [
    {
     "data": {
      "text/plain": [
       "(np.float64(14.916666666666666), np.float64(14.916666666666666))"
      ]
     },
     "execution_count": 26,
     "metadata": {},
     "output_type": "execute_result"
    }
   ],
   "source": [
    "np.var(sec_a), np.var(sec_a)"
   ]
  },
  {
   "cell_type": "code",
   "execution_count": 27,
   "id": "c2da42c5",
   "metadata": {},
   "outputs": [
    {
     "data": {
      "text/html": [
       "<div>\n",
       "<style scoped>\n",
       "    .dataframe tbody tr th:only-of-type {\n",
       "        vertical-align: middle;\n",
       "    }\n",
       "\n",
       "    .dataframe tbody tr th {\n",
       "        vertical-align: top;\n",
       "    }\n",
       "\n",
       "    .dataframe thead th {\n",
       "        text-align: right;\n",
       "    }\n",
       "</style>\n",
       "<table border=\"1\" class=\"dataframe\">\n",
       "  <thead>\n",
       "    <tr style=\"text-align: right;\">\n",
       "      <th></th>\n",
       "      <th>Unnamed: 0</th>\n",
       "      <th>Age</th>\n",
       "      <th>Marks</th>\n",
       "    </tr>\n",
       "  </thead>\n",
       "  <tbody>\n",
       "    <tr>\n",
       "      <th>count</th>\n",
       "      <td>4.000000</td>\n",
       "      <td>4.000000</td>\n",
       "      <td>4.00</td>\n",
       "    </tr>\n",
       "    <tr>\n",
       "      <th>mean</th>\n",
       "      <td>1.500000</td>\n",
       "      <td>23.500000</td>\n",
       "      <td>93.75</td>\n",
       "    </tr>\n",
       "    <tr>\n",
       "      <th>std</th>\n",
       "      <td>1.290994</td>\n",
       "      <td>1.290994</td>\n",
       "      <td>3.50</td>\n",
       "    </tr>\n",
       "    <tr>\n",
       "      <th>min</th>\n",
       "      <td>0.000000</td>\n",
       "      <td>22.000000</td>\n",
       "      <td>90.00</td>\n",
       "    </tr>\n",
       "    <tr>\n",
       "      <th>25%</th>\n",
       "      <td>0.750000</td>\n",
       "      <td>22.750000</td>\n",
       "      <td>91.50</td>\n",
       "    </tr>\n",
       "    <tr>\n",
       "      <th>50%</th>\n",
       "      <td>1.500000</td>\n",
       "      <td>23.500000</td>\n",
       "      <td>93.50</td>\n",
       "    </tr>\n",
       "    <tr>\n",
       "      <th>75%</th>\n",
       "      <td>2.250000</td>\n",
       "      <td>24.250000</td>\n",
       "      <td>95.75</td>\n",
       "    </tr>\n",
       "    <tr>\n",
       "      <th>max</th>\n",
       "      <td>3.000000</td>\n",
       "      <td>25.000000</td>\n",
       "      <td>98.00</td>\n",
       "    </tr>\n",
       "  </tbody>\n",
       "</table>\n",
       "</div>"
      ],
      "text/plain": [
       "       Unnamed: 0        Age  Marks\n",
       "count    4.000000   4.000000   4.00\n",
       "mean     1.500000  23.500000  93.75\n",
       "std      1.290994   1.290994   3.50\n",
       "min      0.000000  22.000000  90.00\n",
       "25%      0.750000  22.750000  91.50\n",
       "50%      1.500000  23.500000  93.50\n",
       "75%      2.250000  24.250000  95.75\n",
       "max      3.000000  25.000000  98.00"
      ]
     },
     "execution_count": 27,
     "metadata": {},
     "output_type": "execute_result"
    }
   ],
   "source": [
    "dataset.describe()"
   ]
  },
  {
   "cell_type": "markdown",
   "id": "5325a059",
   "metadata": {},
   "source": [
    "**parcentiles & quartiels**"
   ]
  },
  {
   "cell_type": "code",
   "execution_count": 28,
   "id": "28ceb391",
   "metadata": {},
   "outputs": [
    {
     "data": {
      "text/html": [
       "<div>\n",
       "<style scoped>\n",
       "    .dataframe tbody tr th:only-of-type {\n",
       "        vertical-align: middle;\n",
       "    }\n",
       "\n",
       "    .dataframe tbody tr th {\n",
       "        vertical-align: top;\n",
       "    }\n",
       "\n",
       "    .dataframe thead th {\n",
       "        text-align: right;\n",
       "    }\n",
       "</style>\n",
       "<table border=\"1\" class=\"dataframe\">\n",
       "  <thead>\n",
       "    <tr style=\"text-align: right;\">\n",
       "      <th></th>\n",
       "      <th>Unnamed: 0</th>\n",
       "      <th>Name</th>\n",
       "      <th>Age</th>\n",
       "      <th>Marks</th>\n",
       "    </tr>\n",
       "  </thead>\n",
       "  <tbody>\n",
       "    <tr>\n",
       "      <th>0</th>\n",
       "      <td>0</td>\n",
       "      <td>nabil</td>\n",
       "      <td>23</td>\n",
       "      <td>98</td>\n",
       "    </tr>\n",
       "    <tr>\n",
       "      <th>1</th>\n",
       "      <td>1</td>\n",
       "      <td>nur</td>\n",
       "      <td>22</td>\n",
       "      <td>95</td>\n",
       "    </tr>\n",
       "    <tr>\n",
       "      <th>2</th>\n",
       "      <td>2</td>\n",
       "      <td>muttakin</td>\n",
       "      <td>24</td>\n",
       "      <td>90</td>\n",
       "    </tr>\n",
       "    <tr>\n",
       "      <th>3</th>\n",
       "      <td>3</td>\n",
       "      <td>hamza</td>\n",
       "      <td>25</td>\n",
       "      <td>92</td>\n",
       "    </tr>\n",
       "  </tbody>\n",
       "</table>\n",
       "</div>"
      ],
      "text/plain": [
       "   Unnamed: 0      Name  Age  Marks\n",
       "0           0     nabil   23     98\n",
       "1           1       nur   22     95\n",
       "2           2  muttakin   24     90\n",
       "3           3     hamza   25     92"
      ]
     },
     "execution_count": 28,
     "metadata": {},
     "output_type": "execute_result"
    }
   ],
   "source": [
    "dataset"
   ]
  },
  {
   "cell_type": "code",
   "execution_count": 29,
   "id": "4f18628c",
   "metadata": {},
   "outputs": [
    {
     "name": "stderr",
     "output_type": "stream",
     "text": [
      "C:\\Users\\Asus\\AppData\\Local\\Temp\\ipykernel_10540\\753066994.py:1: FutureWarning: A value is trying to be set on a copy of a DataFrame or Series through chained assignment using an inplace method.\n",
      "The behavior will change in pandas 3.0. This inplace method will never work because the intermediate object on which we are setting values always behaves as a copy.\n",
      "\n",
      "For example, when doing 'df[col].method(value, inplace=True)', try using 'df.method({col: value}, inplace=True)' or df[col] = df[col].method(value) instead, to perform the operation inplace on the original object.\n",
      "\n",
      "\n",
      "  dataset['Age'].fillna(dataset['Age'].mean(),inplace=True)\n"
     ]
    }
   ],
   "source": [
    "dataset['Age'].fillna(dataset['Age'].mean(),inplace=True)"
   ]
  },
  {
   "cell_type": "code",
   "execution_count": 30,
   "id": "3e9b07b8",
   "metadata": {},
   "outputs": [
    {
     "data": {
      "text/plain": [
       "0    23\n",
       "1    22\n",
       "2    24\n",
       "3    25\n",
       "Name: Age, dtype: int64"
      ]
     },
     "execution_count": 30,
     "metadata": {},
     "output_type": "execute_result"
    }
   ],
   "source": [
    "dataset['Age']"
   ]
  },
  {
   "cell_type": "code",
   "execution_count": 31,
   "id": "58e958da",
   "metadata": {},
   "outputs": [
    {
     "data": {
      "text/plain": [
       "np.float64(22.75)"
      ]
     },
     "execution_count": 31,
     "metadata": {},
     "output_type": "execute_result"
    }
   ],
   "source": [
    "np.percentile(dataset['Age'],25)"
   ]
  },
  {
   "cell_type": "markdown",
   "id": "4f6b129b",
   "metadata": {},
   "source": [
    "**check outliers**"
   ]
  },
  {
   "cell_type": "code",
   "execution_count": 32,
   "id": "54a46183",
   "metadata": {},
   "outputs": [
    {
     "data": {
      "text/plain": [
       "<Axes: xlabel='Age'>"
      ]
     },
     "execution_count": 32,
     "metadata": {},
     "output_type": "execute_result"
    },
    {
     "data": {
      "image/png": "[encoded data removed]",
      "text/plain": [
       "<Figure size 640x480 with 1 Axes>"
      ]
     },
     "metadata": {},
     "output_type": "display_data"
    }
   ],
   "source": [
    "sns.boxplot(x=\"Age\",data=dataset)"
   ]
  },
  {
   "cell_type": "code",
   "execution_count": 33,
   "id": "b60d6d14",
   "metadata": {},
   "outputs": [
    {
     "data": {
      "text/html": [
       "<div>\n",
       "<style scoped>\n",
       "    .dataframe tbody tr th:only-of-type {\n",
       "        vertical-align: middle;\n",
       "    }\n",
       "\n",
       "    .dataframe tbody tr th {\n",
       "        vertical-align: top;\n",
       "    }\n",
       "\n",
       "    .dataframe thead th {\n",
       "        text-align: right;\n",
       "    }\n",
       "</style>\n",
       "<table border=\"1\" class=\"dataframe\">\n",
       "  <thead>\n",
       "    <tr style=\"text-align: right;\">\n",
       "      <th></th>\n",
       "      <th>Unnamed: 0</th>\n",
       "      <th>Age</th>\n",
       "      <th>Marks</th>\n",
       "    </tr>\n",
       "  </thead>\n",
       "  <tbody>\n",
       "    <tr>\n",
       "      <th>count</th>\n",
       "      <td>4.000000</td>\n",
       "      <td>4.000000</td>\n",
       "      <td>4.00</td>\n",
       "    </tr>\n",
       "    <tr>\n",
       "      <th>mean</th>\n",
       "      <td>1.500000</td>\n",
       "      <td>23.500000</td>\n",
       "      <td>93.75</td>\n",
       "    </tr>\n",
       "    <tr>\n",
       "      <th>std</th>\n",
       "      <td>1.290994</td>\n",
       "      <td>1.290994</td>\n",
       "      <td>3.50</td>\n",
       "    </tr>\n",
       "    <tr>\n",
       "      <th>min</th>\n",
       "      <td>0.000000</td>\n",
       "      <td>22.000000</td>\n",
       "      <td>90.00</td>\n",
       "    </tr>\n",
       "    <tr>\n",
       "      <th>25%</th>\n",
       "      <td>0.750000</td>\n",
       "      <td>22.750000</td>\n",
       "      <td>91.50</td>\n",
       "    </tr>\n",
       "    <tr>\n",
       "      <th>50%</th>\n",
       "      <td>1.500000</td>\n",
       "      <td>23.500000</td>\n",
       "      <td>93.50</td>\n",
       "    </tr>\n",
       "    <tr>\n",
       "      <th>75%</th>\n",
       "      <td>2.250000</td>\n",
       "      <td>24.250000</td>\n",
       "      <td>95.75</td>\n",
       "    </tr>\n",
       "    <tr>\n",
       "      <th>max</th>\n",
       "      <td>3.000000</td>\n",
       "      <td>25.000000</td>\n",
       "      <td>98.00</td>\n",
       "    </tr>\n",
       "  </tbody>\n",
       "</table>\n",
       "</div>"
      ],
      "text/plain": [
       "       Unnamed: 0        Age  Marks\n",
       "count    4.000000   4.000000   4.00\n",
       "mean     1.500000  23.500000  93.75\n",
       "std      1.290994   1.290994   3.50\n",
       "min      0.000000  22.000000  90.00\n",
       "25%      0.750000  22.750000  91.50\n",
       "50%      1.500000  23.500000  93.50\n",
       "75%      2.250000  24.250000  95.75\n",
       "max      3.000000  25.000000  98.00"
      ]
     },
     "execution_count": 33,
     "metadata": {},
     "output_type": "execute_result"
    }
   ],
   "source": [
    "dataset.describe()"
   ]
  },
  {
   "cell_type": "markdown",
   "id": "e4060ef0",
   "metadata": {},
   "source": [
    "**skewness**"
   ]
  },
  {
   "cell_type": "code",
   "execution_count": 34,
   "id": "0d9f0d59",
   "metadata": {},
   "outputs": [
    {
     "data": {
      "text/html": [
       "<div>\n",
       "<style scoped>\n",
       "    .dataframe tbody tr th:only-of-type {\n",
       "        vertical-align: middle;\n",
       "    }\n",
       "\n",
       "    .dataframe tbody tr th {\n",
       "        vertical-align: top;\n",
       "    }\n",
       "\n",
       "    .dataframe thead th {\n",
       "        text-align: right;\n",
       "    }\n",
       "</style>\n",
       "<table border=\"1\" class=\"dataframe\">\n",
       "  <thead>\n",
       "    <tr style=\"text-align: right;\">\n",
       "      <th></th>\n",
       "      <th>Unnamed: 0</th>\n",
       "      <th>Name</th>\n",
       "      <th>Age</th>\n",
       "      <th>Marks</th>\n",
       "    </tr>\n",
       "  </thead>\n",
       "  <tbody>\n",
       "    <tr>\n",
       "      <th>0</th>\n",
       "      <td>0</td>\n",
       "      <td>nabil</td>\n",
       "      <td>23</td>\n",
       "      <td>98</td>\n",
       "    </tr>\n",
       "    <tr>\n",
       "      <th>1</th>\n",
       "      <td>1</td>\n",
       "      <td>nur</td>\n",
       "      <td>22</td>\n",
       "      <td>95</td>\n",
       "    </tr>\n",
       "    <tr>\n",
       "      <th>2</th>\n",
       "      <td>2</td>\n",
       "      <td>muttakin</td>\n",
       "      <td>24</td>\n",
       "      <td>90</td>\n",
       "    </tr>\n",
       "    <tr>\n",
       "      <th>3</th>\n",
       "      <td>3</td>\n",
       "      <td>hamza</td>\n",
       "      <td>25</td>\n",
       "      <td>92</td>\n",
       "    </tr>\n",
       "  </tbody>\n",
       "</table>\n",
       "</div>"
      ],
      "text/plain": [
       "   Unnamed: 0      Name  Age  Marks\n",
       "0           0     nabil   23     98\n",
       "1           1       nur   22     95\n",
       "2           2  muttakin   24     90\n",
       "3           3     hamza   25     92"
      ]
     },
     "execution_count": 34,
     "metadata": {},
     "output_type": "execute_result"
    }
   ],
   "source": [
    "dataset"
   ]
  },
  {
   "cell_type": "code",
   "execution_count": 35,
   "id": "801d93ba",
   "metadata": {},
   "outputs": [
    {
     "data": {
      "text/plain": [
       "<Axes: xlabel='Age', ylabel='Count'>"
      ]
     },
     "execution_count": 35,
     "metadata": {},
     "output_type": "execute_result"
    },
    {
     "data": {
      "image/png": "[encoded data removed]",
      "text/plain": [
       "<Figure size 640x480 with 1 Axes>"
      ]
     },
     "metadata": {},
     "output_type": "display_data"
    }
   ],
   "source": [
    "sns.histplot(x='Age',data=dataset)"
   ]
  },
  {
   "cell_type": "code",
   "execution_count": 36,
   "id": "d739d11d",
   "metadata": {},
   "outputs": [
    {
     "data": {
      "text/plain": [
       "np.float64(0.0)"
      ]
     },
     "execution_count": 36,
     "metadata": {},
     "output_type": "execute_result"
    }
   ],
   "source": [
    "dataset['Age'].skew()\n",
    "# Age > 0 so its positive skew"
   ]
  },
  {
   "cell_type": "code",
   "execution_count": 37,
   "id": "9979ed70",
   "metadata": {},
   "outputs": [
    {
     "name": "stdout",
     "output_type": "stream",
     "text": [
      "প্রথমে ডেটাসেট:\n",
      "      Name   Age Gender\n",
      "0    Alice  25.0      F\n",
      "1      Bob  30.0      M\n",
      "2      bob   NaN      M\n",
      "3  Charlie  35.0   Male\n",
      "4    David  40.0      M\n",
      "5      Eve   NaN      F\n",
      "6    Alice  25.0      F\n"
     ]
    }
   ],
   "source": [
    "data = {\n",
    "    'Name': ['Alice', 'Bob', 'bob', 'Charlie', 'David', 'Eve', 'Alice'],\n",
    "    'Age': [25, 30, np.nan, 35, 40, np.nan, 25],\n",
    "    'Gender': ['F', 'M', 'M', 'Male', 'M', 'F', 'F']\n",
    "}\n",
    "\n",
    "df = pd.DataFrame(data)\n",
    "print(\"প্রথমে ডেটাসেট:\")\n",
    "print(df)"
   ]
  },
  {
   "cell_type": "code",
   "execution_count": 38,
   "id": "076159bd",
   "metadata": {},
   "outputs": [
    {
     "data": {
      "text/plain": [
       "np.float64(nan)"
      ]
     },
     "execution_count": 38,
     "metadata": {},
     "output_type": "execute_result"
    }
   ],
   "source": [
    "np.median(data[\"Age\"])"
   ]
  },
  {
   "cell_type": "code",
   "execution_count": 39,
   "id": "e14255b1",
   "metadata": {},
   "outputs": [
    {
     "name": "stderr",
     "output_type": "stream",
     "text": [
      "C:\\Users\\Asus\\AppData\\Local\\Temp\\ipykernel_10540\\3206426310.py:2: FutureWarning: A value is trying to be set on a copy of a DataFrame or Series through chained assignment using an inplace method.\n",
      "The behavior will change in pandas 3.0. This inplace method will never work because the intermediate object on which we are setting values always behaves as a copy.\n",
      "\n",
      "For example, when doing 'df[col].method(value, inplace=True)', try using 'df.method({col: value}, inplace=True)' or df[col] = df[col].method(value) instead, to perform the operation inplace on the original object.\n",
      "\n",
      "\n",
      "  df['Age'].fillna(df['Age'].median(), inplace=True)\n"
     ]
    }
   ],
   "source": [
    "# Age কলামে missing values পূরণ মিডিয়ান দিয়ে\n",
    "df['Age'].fillna(df['Age'].median(), inplace=True)"
   ]
  },
  {
   "cell_type": "code",
   "execution_count": 40,
   "id": "a8b39788",
   "metadata": {},
   "outputs": [
    {
     "data": {
      "text/html": [
       "<div>\n",
       "<style scoped>\n",
       "    .dataframe tbody tr th:only-of-type {\n",
       "        vertical-align: middle;\n",
       "    }\n",
       "\n",
       "    .dataframe tbody tr th {\n",
       "        vertical-align: top;\n",
       "    }\n",
       "\n",
       "    .dataframe thead th {\n",
       "        text-align: right;\n",
       "    }\n",
       "</style>\n",
       "<table border=\"1\" class=\"dataframe\">\n",
       "  <thead>\n",
       "    <tr style=\"text-align: right;\">\n",
       "      <th></th>\n",
       "      <th>Name</th>\n",
       "      <th>Age</th>\n",
       "      <th>Gender</th>\n",
       "    </tr>\n",
       "  </thead>\n",
       "  <tbody>\n",
       "    <tr>\n",
       "      <th>0</th>\n",
       "      <td>Alice</td>\n",
       "      <td>25.0</td>\n",
       "      <td>F</td>\n",
       "    </tr>\n",
       "    <tr>\n",
       "      <th>1</th>\n",
       "      <td>Bob</td>\n",
       "      <td>30.0</td>\n",
       "      <td>M</td>\n",
       "    </tr>\n",
       "    <tr>\n",
       "      <th>2</th>\n",
       "      <td>bob</td>\n",
       "      <td>30.0</td>\n",
       "      <td>M</td>\n",
       "    </tr>\n",
       "    <tr>\n",
       "      <th>3</th>\n",
       "      <td>Charlie</td>\n",
       "      <td>35.0</td>\n",
       "      <td>Male</td>\n",
       "    </tr>\n",
       "    <tr>\n",
       "      <th>4</th>\n",
       "      <td>David</td>\n",
       "      <td>40.0</td>\n",
       "      <td>M</td>\n",
       "    </tr>\n",
       "    <tr>\n",
       "      <th>5</th>\n",
       "      <td>Eve</td>\n",
       "      <td>30.0</td>\n",
       "      <td>F</td>\n",
       "    </tr>\n",
       "    <tr>\n",
       "      <th>6</th>\n",
       "      <td>Alice</td>\n",
       "      <td>25.0</td>\n",
       "      <td>F</td>\n",
       "    </tr>\n",
       "  </tbody>\n",
       "</table>\n",
       "</div>"
      ],
      "text/plain": [
       "      Name   Age Gender\n",
       "0    Alice  25.0      F\n",
       "1      Bob  30.0      M\n",
       "2      bob  30.0      M\n",
       "3  Charlie  35.0   Male\n",
       "4    David  40.0      M\n",
       "5      Eve  30.0      F\n",
       "6    Alice  25.0      F"
      ]
     },
     "execution_count": 40,
     "metadata": {},
     "output_type": "execute_result"
    }
   ],
   "source": [
    "df\n",
    "#here nan is age value median value"
   ]
  },
  {
   "cell_type": "code",
   "execution_count": 41,
   "id": "19f8cba1",
   "metadata": {},
   "outputs": [
    {
     "data": {
      "text/plain": [
       "<Axes: xlabel='Age', ylabel='Count'>"
      ]
     },
     "execution_count": 41,
     "metadata": {},
     "output_type": "execute_result"
    },
    {
     "data": {
      "image/png": "[encoded data removed]",
      "text/plain": [
       "<Figure size 640x480 with 1 Axes>"
      ]
     },
     "metadata": {},
     "output_type": "display_data"
    }
   ],
   "source": [
    "\n",
    "sns.histplot(x='Age', data = data,bins=[i for i in range (0,55,5)])"
   ]
  },
  {
   "cell_type": "code",
   "execution_count": 42,
   "id": "00f5c5d8",
   "metadata": {},
   "outputs": [
    {
     "data": {
      "text/plain": [
       "[25, 30, nan, 35, 40, nan, 25]"
      ]
     },
     "execution_count": 42,
     "metadata": {},
     "output_type": "execute_result"
    }
   ],
   "source": [
    "data['Age']\n"
   ]
  },
  {
   "cell_type": "markdown",
   "id": "09a79d1e",
   "metadata": {},
   "source": [
    "**correlation and covarience**\n"
   ]
  },
  {
   "cell_type": "code",
   "execution_count": 43,
   "id": "d3a750c3",
   "metadata": {},
   "outputs": [
    {
     "data": {
      "text/html": [
       "<div>\n",
       "<style scoped>\n",
       "    .dataframe tbody tr th:only-of-type {\n",
       "        vertical-align: middle;\n",
       "    }\n",
       "\n",
       "    .dataframe tbody tr th {\n",
       "        vertical-align: top;\n",
       "    }\n",
       "\n",
       "    .dataframe thead th {\n",
       "        text-align: right;\n",
       "    }\n",
       "</style>\n",
       "<table border=\"1\" class=\"dataframe\">\n",
       "  <thead>\n",
       "    <tr style=\"text-align: right;\">\n",
       "      <th></th>\n",
       "      <th>Unnamed: 0</th>\n",
       "      <th>Name</th>\n",
       "      <th>Age</th>\n",
       "      <th>Marks</th>\n",
       "    </tr>\n",
       "  </thead>\n",
       "  <tbody>\n",
       "    <tr>\n",
       "      <th>0</th>\n",
       "      <td>0</td>\n",
       "      <td>nabil</td>\n",
       "      <td>23</td>\n",
       "      <td>98</td>\n",
       "    </tr>\n",
       "    <tr>\n",
       "      <th>1</th>\n",
       "      <td>1</td>\n",
       "      <td>nur</td>\n",
       "      <td>22</td>\n",
       "      <td>95</td>\n",
       "    </tr>\n",
       "    <tr>\n",
       "      <th>2</th>\n",
       "      <td>2</td>\n",
       "      <td>muttakin</td>\n",
       "      <td>24</td>\n",
       "      <td>90</td>\n",
       "    </tr>\n",
       "    <tr>\n",
       "      <th>3</th>\n",
       "      <td>3</td>\n",
       "      <td>hamza</td>\n",
       "      <td>25</td>\n",
       "      <td>92</td>\n",
       "    </tr>\n",
       "  </tbody>\n",
       "</table>\n",
       "</div>"
      ],
      "text/plain": [
       "   Unnamed: 0      Name  Age  Marks\n",
       "0           0     nabil   23     98\n",
       "1           1       nur   22     95\n",
       "2           2  muttakin   24     90\n",
       "3           3     hamza   25     92"
      ]
     },
     "execution_count": 43,
     "metadata": {},
     "output_type": "execute_result"
    }
   ],
   "source": [
    "dataset"
   ]
  },
  {
   "cell_type": "code",
   "execution_count": 44,
   "id": "0c876b96",
   "metadata": {},
   "outputs": [
    {
     "name": "stdout",
     "output_type": "stream",
     "text": [
      "<class 'pandas.core.frame.DataFrame'>\n",
      "RangeIndex: 4 entries, 0 to 3\n",
      "Data columns (total 4 columns):\n",
      " #   Column      Non-Null Count  Dtype \n",
      "---  ------      --------------  ----- \n",
      " 0   Unnamed: 0  4 non-null      int64 \n",
      " 1   Name        4 non-null      object\n",
      " 2   Age         4 non-null      int64 \n",
      " 3   Marks       4 non-null      int64 \n",
      "dtypes: int64(3), object(1)\n",
      "memory usage: 256.0+ bytes\n"
     ]
    }
   ],
   "source": [
    "dataset.info()"
   ]
  },
  {
   "cell_type": "code",
   "execution_count": 45,
   "id": "d69b929f",
   "metadata": {},
   "outputs": [
    {
     "data": {
      "text/html": [
       "<div>\n",
       "<style scoped>\n",
       "    .dataframe tbody tr th:only-of-type {\n",
       "        vertical-align: middle;\n",
       "    }\n",
       "\n",
       "    .dataframe tbody tr th {\n",
       "        vertical-align: top;\n",
       "    }\n",
       "\n",
       "    .dataframe thead th {\n",
       "        text-align: right;\n",
       "    }\n",
       "</style>\n",
       "<table border=\"1\" class=\"dataframe\">\n",
       "  <thead>\n",
       "    <tr style=\"text-align: right;\">\n",
       "      <th></th>\n",
       "      <th>Unnamed: 0</th>\n",
       "      <th>Age</th>\n",
       "      <th>Marks</th>\n",
       "    </tr>\n",
       "  </thead>\n",
       "  <tbody>\n",
       "    <tr>\n",
       "      <th>Unnamed: 0</th>\n",
       "      <td>1.000000</td>\n",
       "      <td>0.800000</td>\n",
       "      <td>-0.848368</td>\n",
       "    </tr>\n",
       "    <tr>\n",
       "      <th>Age</th>\n",
       "      <td>0.800000</td>\n",
       "      <td>1.000000</td>\n",
       "      <td>-0.627054</td>\n",
       "    </tr>\n",
       "    <tr>\n",
       "      <th>Marks</th>\n",
       "      <td>-0.848368</td>\n",
       "      <td>-0.627054</td>\n",
       "      <td>1.000000</td>\n",
       "    </tr>\n",
       "  </tbody>\n",
       "</table>\n",
       "</div>"
      ],
      "text/plain": [
       "            Unnamed: 0       Age     Marks\n",
       "Unnamed: 0    1.000000  0.800000 -0.848368\n",
       "Age           0.800000  1.000000 -0.627054\n",
       "Marks        -0.848368 -0.627054  1.000000"
      ]
     },
     "execution_count": 45,
     "metadata": {},
     "output_type": "execute_result"
    }
   ],
   "source": [
    "corr=dataset.select_dtypes('int64').corr()\n",
    "corr"
   ]
  },
  {
   "cell_type": "code",
   "execution_count": 46,
   "id": "a0021d0a",
   "metadata": {},
   "outputs": [
    {
     "data": {
      "image/png": "[encoded data removed]",
      "text/plain": [
       "<Figure size 500x300 with 2 Axes>"
      ]
     },
     "metadata": {},
     "output_type": "display_data"
    }
   ],
   "source": [
    "plt.figure(figsize=(5,3))\n",
    "sns.heatmap(corr,annot=True)\n",
    "plt.show()\n",
    "\n"
   ]
  },
  {
   "cell_type": "code",
   "execution_count": 47,
   "id": "19db3391",
   "metadata": {},
   "outputs": [
    {
     "data": {
      "text/html": [
       "<div>\n",
       "<style scoped>\n",
       "    .dataframe tbody tr th:only-of-type {\n",
       "        vertical-align: middle;\n",
       "    }\n",
       "\n",
       "    .dataframe tbody tr th {\n",
       "        vertical-align: top;\n",
       "    }\n",
       "\n",
       "    .dataframe thead th {\n",
       "        text-align: right;\n",
       "    }\n",
       "</style>\n",
       "<table border=\"1\" class=\"dataframe\">\n",
       "  <thead>\n",
       "    <tr style=\"text-align: right;\">\n",
       "      <th></th>\n",
       "      <th>Unnamed: 0</th>\n",
       "      <th>Age</th>\n",
       "      <th>Marks</th>\n",
       "    </tr>\n",
       "  </thead>\n",
       "  <tbody>\n",
       "    <tr>\n",
       "      <th>Unnamed: 0</th>\n",
       "      <td>1.666667</td>\n",
       "      <td>1.333333</td>\n",
       "      <td>-3.833333</td>\n",
       "    </tr>\n",
       "    <tr>\n",
       "      <th>Age</th>\n",
       "      <td>1.333333</td>\n",
       "      <td>1.666667</td>\n",
       "      <td>-2.833333</td>\n",
       "    </tr>\n",
       "    <tr>\n",
       "      <th>Marks</th>\n",
       "      <td>-3.833333</td>\n",
       "      <td>-2.833333</td>\n",
       "      <td>12.250000</td>\n",
       "    </tr>\n",
       "  </tbody>\n",
       "</table>\n",
       "</div>"
      ],
      "text/plain": [
       "            Unnamed: 0       Age      Marks\n",
       "Unnamed: 0    1.666667  1.333333  -3.833333\n",
       "Age           1.333333  1.666667  -2.833333\n",
       "Marks        -3.833333 -2.833333  12.250000"
      ]
     },
     "execution_count": 47,
     "metadata": {},
     "output_type": "execute_result"
    }
   ],
   "source": [
    "cov=dataset.select_dtypes('int64').cov()\n",
    "cov"
   ]
  },
  {
   "cell_type": "code",
   "execution_count": 48,
   "id": "d345154f",
   "metadata": {},
   "outputs": [
    {
     "data": {
      "text/plain": [
       "<Axes: >"
      ]
     },
     "execution_count": 48,
     "metadata": {},
     "output_type": "execute_result"
    },
    {
     "data": {
      "image/png": "[encoded data removed]",
      "text/plain": [
       "<Figure size 300x300 with 2 Axes>"
      ]
     },
     "metadata": {},
     "output_type": "display_data"
    }
   ],
   "source": [
    "plt.figure(figsize=(3,3))\n",
    "sns.heatmap(cov,annot=True)"
   ]
  },
  {
   "cell_type": "markdown",
   "id": "57b09ce5",
   "metadata": {},
   "source": [
    "**Central limit distribution**"
   ]
  },
  {
   "cell_type": "code",
   "execution_count": 49,
   "id": "ae420c6e",
   "metadata": {},
   "outputs": [
    {
     "data": {
      "text/plain": [
       "3"
      ]
     },
     "execution_count": 49,
     "metadata": {},
     "output_type": "execute_result"
    }
   ],
   "source": [
    "np.random.randint(1,6)"
   ]
  },
  {
   "cell_type": "code",
   "execution_count": 50,
   "id": "b70f04f6",
   "metadata": {},
   "outputs": [
    {
     "data": {
      "text/html": [
       "<div>\n",
       "<style scoped>\n",
       "    .dataframe tbody tr th:only-of-type {\n",
       "        vertical-align: middle;\n",
       "    }\n",
       "\n",
       "    .dataframe tbody tr th {\n",
       "        vertical-align: top;\n",
       "    }\n",
       "\n",
       "    .dataframe thead th {\n",
       "        text-align: right;\n",
       "    }\n",
       "</style>\n",
       "<table border=\"1\" class=\"dataframe\">\n",
       "  <thead>\n",
       "    <tr style=\"text-align: right;\">\n",
       "      <th></th>\n",
       "      <th>population_data</th>\n",
       "    </tr>\n",
       "  </thead>\n",
       "  <tbody>\n",
       "    <tr>\n",
       "      <th>0</th>\n",
       "      <td>27</td>\n",
       "    </tr>\n",
       "    <tr>\n",
       "      <th>1</th>\n",
       "      <td>84</td>\n",
       "    </tr>\n",
       "    <tr>\n",
       "      <th>2</th>\n",
       "      <td>51</td>\n",
       "    </tr>\n",
       "    <tr>\n",
       "      <th>3</th>\n",
       "      <td>35</td>\n",
       "    </tr>\n",
       "    <tr>\n",
       "      <th>4</th>\n",
       "      <td>57</td>\n",
       "    </tr>\n",
       "  </tbody>\n",
       "</table>\n",
       "</div>"
      ],
      "text/plain": [
       "   population_data\n",
       "0               27\n",
       "1               84\n",
       "2               51\n",
       "3               35\n",
       "4               57"
      ]
     },
     "execution_count": 50,
     "metadata": {},
     "output_type": "execute_result"
    }
   ],
   "source": [
    "population_data = [np.random.randint(10,100) for i  in range(10000)]\n",
    "population_table = pd.DataFrame({\"population_data\":population_data})\n",
    "population_table.head()"
   ]
  },
  {
   "cell_type": "code",
   "execution_count": 51,
   "id": "806eaba5",
   "metadata": {},
   "outputs": [
    {
     "data": {
      "text/plain": [
       "<Axes: xlabel='population_data', ylabel='Density'>"
      ]
     },
     "execution_count": 51,
     "metadata": {},
     "output_type": "execute_result"
    },
    {
     "data": {
      "image/png": "[encoded data removed]",
      "text/plain": [
       "<Figure size 300x200 with 1 Axes>"
      ]
     },
     "metadata": {},
     "output_type": "display_data"
    }
   ],
   "source": [
    "plt.figure(figsize=(3,2))\n",
    "sns.kdeplot(x='population_data', data=population_table)"
   ]
  },
  {
   "cell_type": "code",
   "execution_count": 52,
   "id": "54342ca7",
   "metadata": {},
   "outputs": [
    {
     "data": {
      "text/plain": [
       "1000.0"
      ]
     },
     "execution_count": 52,
     "metadata": {},
     "output_type": "execute_result"
    }
   ],
   "source": [
    "10000*(10/100)"
   ]
  },
  {
   "cell_type": "code",
   "execution_count": 53,
   "id": "edaf1fc3",
   "metadata": {},
   "outputs": [
    {
     "data": {
      "text/plain": [
       "np.int64(64)"
      ]
     },
     "execution_count": 53,
     "metadata": {},
     "output_type": "execute_result"
    }
   ],
   "source": [
    "np.random.choice(population_data)"
   ]
  },
  {
   "cell_type": "code",
   "execution_count": 54,
   "id": "a6ab2ed4",
   "metadata": {},
   "outputs": [],
   "source": [
    "sample_mean = []\n",
    "for num_sample in range (50):\n",
    "    sample_data = []\n",
    "    for data in range(500):\n",
    "        sample_data.append(np.random.choice(population_data))\n",
    "    sample_mean.append(np.mean(sample_data))"
   ]
  },
  {
   "cell_type": "code",
   "execution_count": 55,
   "id": "fc8b7c84",
   "metadata": {},
   "outputs": [],
   "source": [
    "sample_M = pd.DataFrame({\"sample mean\":sample_mean})"
   ]
  },
  {
   "cell_type": "code",
   "execution_count": 56,
   "id": "c2caa337",
   "metadata": {},
   "outputs": [
    {
     "data": {
      "text/html": [
       "<div>\n",
       "<style scoped>\n",
       "    .dataframe tbody tr th:only-of-type {\n",
       "        vertical-align: middle;\n",
       "    }\n",
       "\n",
       "    .dataframe tbody tr th {\n",
       "        vertical-align: top;\n",
       "    }\n",
       "\n",
       "    .dataframe thead th {\n",
       "        text-align: right;\n",
       "    }\n",
       "</style>\n",
       "<table border=\"1\" class=\"dataframe\">\n",
       "  <thead>\n",
       "    <tr style=\"text-align: right;\">\n",
       "      <th></th>\n",
       "      <th>sample mean</th>\n",
       "    </tr>\n",
       "  </thead>\n",
       "  <tbody>\n",
       "    <tr>\n",
       "      <th>0</th>\n",
       "      <td>55.968</td>\n",
       "    </tr>\n",
       "    <tr>\n",
       "      <th>1</th>\n",
       "      <td>55.400</td>\n",
       "    </tr>\n",
       "    <tr>\n",
       "      <th>2</th>\n",
       "      <td>55.056</td>\n",
       "    </tr>\n",
       "    <tr>\n",
       "      <th>3</th>\n",
       "      <td>52.776</td>\n",
       "    </tr>\n",
       "    <tr>\n",
       "      <th>4</th>\n",
       "      <td>55.950</td>\n",
       "    </tr>\n",
       "  </tbody>\n",
       "</table>\n",
       "</div>"
      ],
      "text/plain": [
       "   sample mean\n",
       "0       55.968\n",
       "1       55.400\n",
       "2       55.056\n",
       "3       52.776\n",
       "4       55.950"
      ]
     },
     "execution_count": 56,
     "metadata": {},
     "output_type": "execute_result"
    }
   ],
   "source": [
    "sample_M.head()"
   ]
  },
  {
   "cell_type": "markdown",
   "id": "1e8b7f1a",
   "metadata": {},
   "source": [
    "* 2 data mean almost same*"
   ]
  },
  {
   "cell_type": "code",
   "execution_count": 57,
   "id": "983831a7",
   "metadata": {},
   "outputs": [
    {
     "data": {
      "text/plain": [
       "np.float64(54.6322)"
      ]
     },
     "execution_count": 57,
     "metadata": {},
     "output_type": "execute_result"
    }
   ],
   "source": [
    "np.mean(population_data)"
   ]
  },
  {
   "cell_type": "code",
   "execution_count": 58,
   "id": "46835955",
   "metadata": {},
   "outputs": [],
   "source": [
    "sample_mean = []\n",
    "for num_sample in range (50):\n",
    "    sample_data = []\n",
    "    for data in range(500):\n",
    "        sample_data.append(np.random.choice(population_data))\n",
    "    sample_mean.append(np.mean(sample_data))"
   ]
  },
  {
   "cell_type": "code",
   "execution_count": 59,
   "id": "5d8cd9c5",
   "metadata": {},
   "outputs": [
    {
     "data": {
      "text/plain": [
       "np.float64(54.607)"
      ]
     },
     "execution_count": 59,
     "metadata": {},
     "output_type": "execute_result"
    }
   ],
   "source": [
    "np.mean(sample_mean)"
   ]
  },
  {
   "cell_type": "code",
   "execution_count": 60,
   "id": "28c5ef7d",
   "metadata": {},
   "outputs": [
    {
     "data": {
      "text/plain": [
       "<Axes: xlabel='sample mean', ylabel='Density'>"
      ]
     },
     "execution_count": 60,
     "metadata": {},
     "output_type": "execute_result"
    },
    {
     "data": {
      "image/png": "[encoded data removed]",
      "text/plain": [
       "<Figure size 300x200 with 1 Axes>"
      ]
     },
     "metadata": {},
     "output_type": "display_data"
    }
   ],
   "source": [
    "plt.figure(figsize=(3,2))\n",
    "sns.kdeplot(x=\"sample mean\",data=sample_M)\n"
   ]
  },
  {
   "cell_type": "markdown",
   "id": "978f0698",
   "metadata": {},
   "source": [
    "**Z Test**"
   ]
  },
  {
   "cell_type": "markdown",
   "id": "dc6434a3",
   "metadata": {},
   "source": [
    "Test Type   \tCompare\n",
    "\n",
    "Left-tailed\t    :T_tset < T_table\n",
    "\n",
    "Right-tailed\t:T_tset > T_table\n",
    "\n",
    "Two-tailed   \t:abs(T_tset) > T_table"
   ]
  },
  {
   "cell_type": "markdown",
   "id": "4413bdbe",
   "metadata": {},
   "source": [
    "**Example 1:\n",
    "A teacher claims that the mean score of students in his class is greater than 82 with a standard deviation of 20. If a sample of 81 students was selected with a mean score of 90.**"
   ]
  },
  {
   "cell_type": "markdown",
   "id": "ac774be2",
   "metadata": {},
   "source": [
    "Z= X_bar - meu / (sigma / root n)\n"
   ]
  },
  {
   "cell_type": "markdown",
   "id": "0a391f47",
   "metadata": {},
   "source": [
    "h0 = mean != 82\n",
    "\n",
    "ha = mean > 82"
   ]
  },
  {
   "cell_type": "code",
   "execution_count": 61,
   "id": "989950c5",
   "metadata": {},
   "outputs": [],
   "source": [
    "import scipy.stats as st"
   ]
  },
  {
   "cell_type": "code",
   "execution_count": 62,
   "id": "70d4fae4",
   "metadata": {},
   "outputs": [
    {
     "data": {
      "text/plain": [
       "np.float64(1.6448536269514722)"
      ]
     },
     "execution_count": 62,
     "metadata": {},
     "output_type": "execute_result"
    }
   ],
   "source": [
    "st.norm.ppf(1-0.05)"
   ]
  },
  {
   "cell_type": "code",
   "execution_count": 63,
   "id": "397f9a71",
   "metadata": {},
   "outputs": [],
   "source": [
    "X_bar = 90\n",
    "meu = 82\n",
    "std = 20\n",
    "n = 81\n",
    "alfa = 0.05"
   ]
  },
  {
   "cell_type": "code",
   "execution_count": 64,
   "id": "2467e6ef",
   "metadata": {},
   "outputs": [
    {
     "data": {
      "text/plain": [
       "np.float64(3.5999999999999996)"
      ]
     },
     "execution_count": 64,
     "metadata": {},
     "output_type": "execute_result"
    }
   ],
   "source": [
    "Z_test = (X_bar - meu) / (std/np.sqrt(n))\n",
    "Z_test"
   ]
  },
  {
   "cell_type": "code",
   "execution_count": 65,
   "id": "63139e97",
   "metadata": {},
   "outputs": [
    {
     "data": {
      "text/plain": [
       "np.float64(1.6448536269514722)"
      ]
     },
     "execution_count": 65,
     "metadata": {},
     "output_type": "execute_result"
    }
   ],
   "source": [
    "z_table = st.norm.ppf(1-alfa)\n",
    "z_table"
   ]
  },
  {
   "cell_type": "code",
   "execution_count": 66,
   "id": "e9c0921d",
   "metadata": {},
   "outputs": [
    {
     "name": "stdout",
     "output_type": "stream",
     "text": [
      "Ha is right\n"
     ]
    }
   ],
   "source": [
    "if z_table < Z_test:\n",
    "    print(\"Ha is right\")\n",
    "else:\n",
    "    print(\"H0 is right\")"
   ]
  },
  {
   "cell_type": "markdown",
   "id": "1dda9066",
   "metadata": {},
   "source": [
    " Example 2:\n",
    "\n",
    "Scenario: Imagine you work for an e-commerce company, and your team is responsible for analyzing customer purchase data. You want to determine whether a new website design has led to a significant increase in the average purchase amount compared to the old design.\n",
    "\n",
    "Data: You have collected data from a random sample of 30 customers who made purchases on the old website design and 30 customers who made purchases on the new website design. You have the sample means, sample standard deviations, and sample sizes for both groups.\n",
    "\n",
    "Old design data = [45.2, 42.8, 38.9, 43.5, 41.0, 44.6, 40.5, 42.7, 39.8, 41.4, 44.3, 39.7, 42.2, 41.5, 39.6, 44.0, 43.1, 38.7, 43.9, 42.0, 41.9, 42.8, 43.7, 41.3, 40.9, 42.5, 41.6,43.5,48.3,40.1]\n",
    "\n",
    "New design data = [48.5, 49.1, 50.2, 47.8, 48.7, 49.9, 48.0, 50.5, 49.8, 49.6, 50.1, 48.6, 48.3, 49.0, 50.0, 48.4, 49.3, 49.5, 48.8, 50.6, 50.4, 48.1, 49.2, 50.7, 50.1,50.3,47.2,47.4,47.3,47.0]\n",
    "\n",
    "Population std = 2.5"
   ]
  },
  {
   "cell_type": "markdown",
   "id": "691c23c7",
   "metadata": {},
   "source": [
    "Z_test= X_bar_new - x_bar_old / (sigma / root n)"
   ]
  },
  {
   "cell_type": "code",
   "execution_count": 67,
   "id": "ae36dc71",
   "metadata": {},
   "outputs": [],
   "source": [
    "Old_design_data = np.array([45.2, 42.8, 38.9, 43.5, 41.0, 44.6, 40.5, 42.7, 39.8, 41.4, 44.3, 39.7, 42.2, 41.5, 39.6, 44.0, 43.1, 38.7, 43.9, 42.0, 41.9, 42.8, 43.7, 41.3, 40.9, 42.5, 41.6,43.5,48.3,40.1])\n",
    "New_design_data = np.array([48.5, 49.1, 50.2, 47.8, 48.7, 49.9, 48.0, 50.5, 49.8, 49.6, 50.1, 48.6, 48.3, 49.0, 50.0, 48.4, 49.3, 49.5, 48.8, 50.6, 50.4, 48.1, 49.2, 50.7, 50.1,50.3,47.2,47.4,47.3,47.0])"
   ]
  },
  {
   "cell_type": "code",
   "execution_count": 68,
   "id": "db97cbdc",
   "metadata": {},
   "outputs": [
    {
     "data": {
      "text/plain": [
       "(np.float64(2.039444368776293), np.float64(1.08854643140903))"
      ]
     },
     "execution_count": 68,
     "metadata": {},
     "output_type": "execute_result"
    }
   ],
   "source": [
    "pop_std_old = np.std(Old_design_data)\n",
    "pop_std_new = np.std(New_design_data)\n",
    "pop_std_old,pop_std_new"
   ]
  },
  {
   "cell_type": "code",
   "execution_count": 69,
   "id": "a35f9c41",
   "metadata": {},
   "outputs": [],
   "source": [
    "pop_std = 2.5\n",
    "num_sample2 = len(New_design_data)\n",
    "alpha2 = 0.05"
   ]
  },
  {
   "cell_type": "code",
   "execution_count": 70,
   "id": "4faf5dd8",
   "metadata": {},
   "outputs": [
    {
     "data": {
      "text/plain": [
       "(np.float64(49.08), np.float64(42.199999999999996))"
      ]
     },
     "execution_count": 70,
     "metadata": {},
     "output_type": "execute_result"
    }
   ],
   "source": [
    "mean_new = np.mean(New_design_data)\n",
    "mean_old = np.mean(Old_design_data)\n",
    "mean_new,mean_old"
   ]
  },
  {
   "cell_type": "code",
   "execution_count": 71,
   "id": "302317cd",
   "metadata": {},
   "outputs": [
    {
     "data": {
      "text/plain": [
       "np.float64(15.073324782542176)"
      ]
     },
     "execution_count": 71,
     "metadata": {},
     "output_type": "execute_result"
    }
   ],
   "source": [
    "Z_test2 = (mean_new - mean_old) / (pop_std/np.sqrt(num_sample2))\n",
    "Z_test2"
   ]
  },
  {
   "cell_type": "code",
   "execution_count": 72,
   "id": "a42114c4",
   "metadata": {},
   "outputs": [
    {
     "data": {
      "text/plain": [
       "np.float64(1.6448536269514722)"
      ]
     },
     "execution_count": 72,
     "metadata": {},
     "output_type": "execute_result"
    }
   ],
   "source": [
    "z_table2 = st.norm.ppf(1-alpha2)\n",
    "z_table2"
   ]
  },
  {
   "cell_type": "code",
   "execution_count": 73,
   "id": "f73324f5",
   "metadata": {},
   "outputs": [
    {
     "name": "stdout",
     "output_type": "stream",
     "text": [
      "ha is right\n"
     ]
    }
   ],
   "source": [
    "if Z_test2 > z_table2:\n",
    "    print(\"ha is right\")\n",
    "else:\n",
    "    print(\"h0 is right\")"
   ]
  },
  {
   "cell_type": "markdown",
   "id": "14f8815c",
   "metadata": {},
   "source": [
    "**T Test**\n"
   ]
  },
  {
   "cell_type": "markdown",
   "id": "660aaa95",
   "metadata": {},
   "source": [
    "Example:\n",
    "A manufacturer claims that the average weight of a bag of potato chips is 150 grams. A sample of 25 bags is taken, and the average weight is found to be 148 grams, with a standard deviation of 5 grams. Test the manufacturer’s claim using a one-tailed t-test with a significance level of 0.05."
   ]
  },
  {
   "cell_type": "markdown",
   "id": "d6521116",
   "metadata": {},
   "source": [
    "formula \n",
    "T-test = x_bar - mean / (std/root n)"
   ]
  },
  {
   "cell_type": "markdown",
   "id": "be10219f",
   "metadata": {},
   "source": [
    "h0 = mean = 150,\n",
    "\n",
    "ha = mean < 150\n"
   ]
  },
  {
   "cell_type": "code",
   "execution_count": 74,
   "id": "24e91d5d",
   "metadata": {},
   "outputs": [],
   "source": [
    "import scipy.stats as st"
   ]
  },
  {
   "cell_type": "code",
   "execution_count": 75,
   "id": "8a44e3f6",
   "metadata": {},
   "outputs": [],
   "source": [
    "t1_x_bar = 148\n",
    "t1_mean = 150\n",
    "t1_std = 5\n",
    "t1_n = 25"
   ]
  },
  {
   "cell_type": "code",
   "execution_count": 76,
   "id": "2f86c622",
   "metadata": {},
   "outputs": [
    {
     "data": {
      "text/plain": [
       "np.float64(-2.0)"
      ]
     },
     "execution_count": 76,
     "metadata": {},
     "output_type": "execute_result"
    }
   ],
   "source": [
    "T_test = t1_x_bar - t1_mean / (t1_std/np.sqrt(t1_n)) \n",
    "T_test"
   ]
  },
  {
   "cell_type": "code",
   "execution_count": 77,
   "id": "8ab6bf4c",
   "metadata": {},
   "outputs": [
    {
     "data": {
      "text/plain": [
       "np.float64(-1.7108820799094282)"
      ]
     },
     "execution_count": 77,
     "metadata": {},
     "output_type": "execute_result"
    }
   ],
   "source": [
    "#when we find t test then find degree of freedom \n",
    "T_table = st.t.ppf(0.05,24)\n",
    "T_table"
   ]
  },
  {
   "cell_type": "code",
   "execution_count": 78,
   "id": "39d32a99",
   "metadata": {},
   "outputs": [
    {
     "name": "stdout",
     "output_type": "stream",
     "text": [
      "ha is right\n"
     ]
    }
   ],
   "source": [
    "if  T_test < T_table:\n",
    "    print('ha is right')\n",
    "else:\n",
    "    print(\"h0 is right\") "
   ]
  },
  {
   "cell_type": "markdown",
   "id": "b69311fa",
   "metadata": {},
   "source": [
    "Example:\n",
    "A company wants to test whether there is a difference in productivity between two teams. They randomly select 20 employees from each team and record their productivity scores. The mean productivity score for Team A is 80 with a standard deviation of 5, while the mean productivity score for Team B is 75 with a standard deviation of 6. Test at a 5% level of significance whether there is a difference in productivity between the two teams."
   ]
  },
  {
   "cell_type": "markdown",
   "id": "70dfa6af",
   "metadata": {},
   "source": [
    "T_test = (mean_A - mean_B) / root{(std^2 A/n_A)+(std^2 B/n_B)}"
   ]
  },
  {
   "cell_type": "markdown",
   "id": "d86c4392",
   "metadata": {},
   "source": [
    "H0 = A = B\n",
    "\n",
    "Ha = A != B"
   ]
  },
  {
   "cell_type": "markdown",
   "id": "2bba01ee",
   "metadata": {},
   "source": [
    "here said two team difference so here happen two tailed  "
   ]
  },
  {
   "cell_type": "code",
   "execution_count": 79,
   "id": "5559608d",
   "metadata": {},
   "outputs": [],
   "source": [
    "t2_mean_A = 80\n",
    "t2_mean_B = 75\n",
    "t2_std_A = 5**2\n",
    "t2_std_B = 6**2\n",
    "t2_n_A = 20\n",
    "t2_n_B = 20"
   ]
  },
  {
   "cell_type": "code",
   "execution_count": 80,
   "id": "a371a25f",
   "metadata": {},
   "outputs": [
    {
     "data": {
      "text/plain": [
       "np.float64(2.862991671569341)"
      ]
     },
     "execution_count": 80,
     "metadata": {},
     "output_type": "execute_result"
    }
   ],
   "source": [
    "T_Test_2 = (t2_mean_A - t2_mean_B) / np.sqrt((t2_std_A/t2_n_A)+(t2_std_B/t2_n_B))\n",
    "T_Test_2"
   ]
  },
  {
   "cell_type": "code",
   "execution_count": 81,
   "id": "b4fdeef4",
   "metadata": {},
   "outputs": [
    {
     "data": {
      "text/plain": [
       "np.float64(2.024394163911969)"
      ]
     },
     "execution_count": 81,
     "metadata": {},
     "output_type": "execute_result"
    }
   ],
   "source": [
    "degrue_Of_freedom = 20+20 -2\n",
    "T_table_2 = st.t.ppf(1-0.025,degrue_Of_freedom)\n",
    "T_table_2"
   ]
  },
  {
   "cell_type": "code",
   "execution_count": 82,
   "id": "32d3a758",
   "metadata": {},
   "outputs": [
    {
     "name": "stdout",
     "output_type": "stream",
     "text": [
      "Reject H0: There is a significant difference between Team A and Team B.\n"
     ]
    }
   ],
   "source": [
    "if abs(T_Test_2) > T_table_2:\n",
    "    print(\"Reject H0: There is a significant difference between Team A and Team B.\")\n",
    "else:\n",
    "    print(\"Fail to reject H0: There is no significant difference between Team A and Team B.\")"
   ]
  },
  {
   "cell_type": "markdown",
   "id": "bf7b7c62",
   "metadata": {},
   "source": [
    "A company wants to test whether a new training program improves the typing speed of its employees. The typing speeds of 20 employees were recorded before and after the training.\n",
    "\n",
    "You are asked to test, at a 5% level of significance, whether the training program has an effect on typing speed.\n",
    "\n",
    "Before:\n",
    "50, 60, 45, 65, 55, 70, 40, 75, 80, 65, 70, 60, 50, 55, 45, 75, 60, 50, 65, 70\n",
    "\n",
    "After:\n",
    "60, 70, 55, 75, 65, 80, 50, 85, 90, 70, 75, 65, 55, 60, 50, 80, 65, 55, 70, 75"
   ]
  },
  {
   "cell_type": "markdown",
   "id": "0f0176a5",
   "metadata": {},
   "source": [
    "H0 = (After = Before)\n",
    "\n",
    "Ha = (After != Before)"
   ]
  },
  {
   "cell_type": "markdown",
   "id": "cff9531a",
   "metadata": {},
   "source": [
    "formula = T_test = (mean_A - mean_B) / root{(std^2 A/n_A)+(std^2 B/n_B)}"
   ]
  },
  {
   "cell_type": "code",
   "execution_count": 83,
   "id": "510cc568",
   "metadata": {},
   "outputs": [],
   "source": [
    "\n",
    "Before = np.array([50, 60, 45, 65, 55, 70, 40, 75, 80, 65, 70, 60, 50, 55, 45, 75, 60, 50, 65, 70])\n",
    "After = np.array([60, 70, 55, 75, 65, 80, 50, 85, 90, 70, 75, 65, 55, 60, 50, 80, 65, 55, 70, 75])"
   ]
  },
  {
   "cell_type": "code",
   "execution_count": 84,
   "id": "529ab4c0",
   "metadata": {},
   "outputs": [],
   "source": [
    "mean_After = np.mean(After)\n",
    "mean_Before = np.mean(Before)\n",
    "t3_std_After = np.std(After)\n",
    "t3_std_Before = np.std(Before)\n"
   ]
  },
  {
   "cell_type": "code",
   "execution_count": 85,
   "id": "fd206387",
   "metadata": {},
   "outputs": [
    {
     "data": {
      "text/plain": [
       "np.float64(2.061200527128206)"
      ]
     },
     "execution_count": 85,
     "metadata": {},
     "output_type": "execute_result"
    }
   ],
   "source": [
    "T_test_3 = (mean_After - mean_Before) / (np.sqrt((t3_std_After ** 2/len(After)) + (t3_std_Before ** 2/len(Before))))\n",
    "T_test_3"
   ]
  },
  {
   "cell_type": "code",
   "execution_count": 86,
   "id": "1e80dd54",
   "metadata": {},
   "outputs": [
    {
     "data": {
      "text/plain": [
       "np.float64(2.093024054408263)"
      ]
     },
     "execution_count": 86,
     "metadata": {},
     "output_type": "execute_result"
    }
   ],
   "source": [
    "T_table_3 = st.t.ppf(1-0.025,19)\n",
    "T_table_3"
   ]
  },
  {
   "cell_type": "code",
   "execution_count": 87,
   "id": "18355e45",
   "metadata": {},
   "outputs": [
    {
     "name": "stdout",
     "output_type": "stream",
     "text": [
      "Fail to reject H0: There is no significant difference.\n"
     ]
    }
   ],
   "source": [
    "if abs(T_test_3 > T_table_3):\n",
    "    print(\"Reject H0: There is a significant difference.\")\n",
    "else:\n",
    "    print(\"Fail to reject H0: There is no significant difference.\")"
   ]
  },
  {
   "cell_type": "markdown",
   "id": "97791755",
   "metadata": {},
   "source": [
    "**Chi square test**"
   ]
  },
  {
   "cell_type": "markdown",
   "id": "00ba8105",
   "metadata": {},
   "source": [
    "A fair die is rolled 120 times and the following results are obtained:\n",
    "\n",
    "Face 1: 22 times\n",
    "\n",
    "Face 2: 17 times\n",
    "\n",
    "Face 3: 20 times\n",
    "\n",
    "Face 4: 26 times\n",
    "\n",
    "Face 5: 22 times\n",
    "\n",
    "Face 6: 13 times\n",
    "\n",
    "Test at a 5% level of significance whether the die is fair."
   ]
  },
  {
   "cell_type": "markdown",
   "id": "786188bb",
   "metadata": {},
   "source": [
    "**Formula:**\n",
    "\n",
    "x^2 = sumation{(O-E)^2 / E}"
   ]
  },
  {
   "cell_type": "markdown",
   "id": "c0e38af6",
   "metadata": {},
   "source": [
    "X^2 = chi square\n",
    "\n",
    "O = observed frequency\n",
    "\n",
    "E = Expected frequency\n"
   ]
  },
  {
   "cell_type": "markdown",
   "id": "c0bd528f",
   "metadata": {},
   "source": [
    "H0 is fair\n",
    "\n",
    "Ha is not fair"
   ]
  },
  {
   "cell_type": "code",
   "execution_count": 88,
   "id": "4a46463e",
   "metadata": {},
   "outputs": [],
   "source": [
    "import numpy as np "
   ]
  },
  {
   "cell_type": "code",
   "execution_count": 89,
   "id": "0b345a3f",
   "metadata": {},
   "outputs": [],
   "source": [
    "Observed_value = np.array([22,17,20,26,22,13])\n",
    "Expected_value = np.array([20,20,20,20,20,20])  \n"
   ]
  },
  {
   "cell_type": "code",
   "execution_count": 90,
   "id": "05e4ccd0",
   "metadata": {},
   "outputs": [
    {
     "data": {
      "text/plain": [
       "np.float64(5.1000000000000005)"
      ]
     },
     "execution_count": 90,
     "metadata": {},
     "output_type": "execute_result"
    }
   ],
   "source": [
    "chi_test = np.sum(np.square(Observed_value - Expected_value)/Expected_value) \n",
    "chi_test"
   ]
  },
  {
   "cell_type": "code",
   "execution_count": 91,
   "id": "52f6eb57",
   "metadata": {},
   "outputs": [
    {
     "data": {
      "text/plain": [
       "np.float64(11.070497693516351)"
      ]
     },
     "execution_count": 91,
     "metadata": {},
     "output_type": "execute_result"
    }
   ],
   "source": [
    "chi_table = st.chi2.ppf(1-0.05,5)\n",
    "chi_table"
   ]
  },
  {
   "cell_type": "code",
   "execution_count": 92,
   "id": "09141f35",
   "metadata": {},
   "outputs": [
    {
     "name": "stdout",
     "output_type": "stream",
     "text": [
      "Fail to reject H0: The die is fair\n"
     ]
    }
   ],
   "source": [
    "if chi_test > chi_table:\n",
    "    print(\"Reject H0: The die is not fair\")\n",
    "else:\n",
    "    print(\"Fail to reject H0: The die is fair\")"
   ]
  },
  {
   "cell_type": "markdown",
   "id": "09bdd42c",
   "metadata": {},
   "source": [
    "A study was conducted to investigate whether there is a relationship between gender and the preferred genre of music. A sample of 235 people was selected, and the data collected is shown below.\n",
    "\n",
    "Test at a 5% level of significance whether there is a significant association between gender and music preference.\n",
    "\n",
    "Pop \tHip     Hop\t Classical\tRock\n",
    "\n",
    "\n",
    "Male\t40\t    45\t      25     10\n",
    "\n",
    "\n",
    "Female\t35\t    30\t      20     30"
   ]
  },
  {
   "cell_type": "markdown",
   "id": "6a10b905",
   "metadata": {},
   "source": [
    "H0 = No association ( there is no defference in male and feamle chose the song)\n",
    "\n",
    "Ha = association "
   ]
  },
  {
   "cell_type": "markdown",
   "id": "01ed57df",
   "metadata": {},
   "source": [
    "df = (number of rows - 1) × (number of columns - 1)"
   ]
  },
  {
   "cell_type": "markdown",
   "id": "502802ad",
   "metadata": {},
   "source": [
    "**Formula:**\n",
    "\n",
    "x^2 = sumation{(O-E)^2 / E}"
   ]
  },
  {
   "cell_type": "code",
   "execution_count": 93,
   "id": "f1244bd6",
   "metadata": {},
   "outputs": [],
   "source": [
    "chi_df2 = (4-1) * (2-1) "
   ]
  },
  {
   "cell_type": "code",
   "execution_count": 94,
   "id": "0d20a1de",
   "metadata": {},
   "outputs": [
    {
     "data": {
      "text/plain": [
       "np.float64(7.814727903251179)"
      ]
     },
     "execution_count": 94,
     "metadata": {},
     "output_type": "execute_result"
    }
   ],
   "source": [
    "Chi_table_2 = st.chi2.ppf(1- 0.05,chi_df2)\n",
    "Chi_table_2\n"
   ]
  },
  {
   "cell_type": "markdown",
   "id": "1c816a45",
   "metadata": {},
   "source": [
    "E = (Row Total) * (Column Total) / grand Total"
   ]
  },
  {
   "cell_type": "code",
   "execution_count": 95,
   "id": "a420e0d8",
   "metadata": {},
   "outputs": [],
   "source": [
    "chi_row1 = np.array([40,45,25,10])\n",
    "chi_row2 = np.array([35,30,20,30])"
   ]
  },
  {
   "cell_type": "code",
   "execution_count": 96,
   "id": "4ee935a5",
   "metadata": {},
   "outputs": [
    {
     "data": {
      "text/plain": [
       "array([120, 115])"
      ]
     },
     "execution_count": 96,
     "metadata": {},
     "output_type": "execute_result"
    }
   ],
   "source": [
    "sum_chi_row1 = np.sum(chi_row1)\n",
    "sum_chi_row2 = np.sum(chi_row2)\n",
    "sum_chi_row1,sum_chi_row2\n",
    "sum_chi_row = np.array([sum_chi_row1,sum_chi_row2])\n",
    "sum_chi_row"
   ]
  },
  {
   "cell_type": "code",
   "execution_count": 97,
   "id": "f2159f60",
   "metadata": {},
   "outputs": [
    {
     "data": {
      "text/plain": [
       "array([75, 75, 45, 40])"
      ]
     },
     "execution_count": 97,
     "metadata": {},
     "output_type": "execute_result"
    }
   ],
   "source": [
    "sum_chi_column = chi_row1 + chi_row2\n",
    "sum_chi_column"
   ]
  },
  {
   "cell_type": "code",
   "execution_count": 98,
   "id": "e8e4b781",
   "metadata": {},
   "outputs": [],
   "source": [
    "E=[]\n",
    "for i in sum_chi_row:\n",
    "    for j in sum_chi_column:\n",
    "        value=(i*j/235)\n",
    "        E.append(value) \n",
    "    "
   ]
  },
  {
   "cell_type": "code",
   "execution_count": 99,
   "id": "275c9a3a",
   "metadata": {},
   "outputs": [
    {
     "data": {
      "text/plain": [
       "[np.float64(38.297872340425535),\n",
       " np.float64(38.297872340425535),\n",
       " np.float64(22.97872340425532),\n",
       " np.float64(20.425531914893618),\n",
       " np.float64(36.702127659574465),\n",
       " np.float64(36.702127659574465),\n",
       " np.float64(22.02127659574468),\n",
       " np.float64(19.574468085106382)]"
      ]
     },
     "execution_count": 99,
     "metadata": {},
     "output_type": "execute_result"
    }
   ],
   "source": [
    "E"
   ]
  },
  {
   "cell_type": "markdown",
   "id": "1aa638f7",
   "metadata": {},
   "source": [
    "observation value"
   ]
  },
  {
   "cell_type": "code",
   "execution_count": 100,
   "id": "f38325bc",
   "metadata": {},
   "outputs": [],
   "source": [
    "O = np.array([40,45,25,10,35,30,20,30])"
   ]
  },
  {
   "cell_type": "code",
   "execution_count": 101,
   "id": "ce39efa8",
   "metadata": {},
   "outputs": [
    {
     "data": {
      "text/plain": [
       "np.float64(13.788747987117553)"
      ]
     },
     "execution_count": 101,
     "metadata": {},
     "output_type": "execute_result"
    }
   ],
   "source": [
    "chi_test_2 = np.sum((np.square(O - E))/E)\n",
    "chi_test_2"
   ]
  },
  {
   "cell_type": "code",
   "execution_count": 102,
   "id": "92927518",
   "metadata": {},
   "outputs": [
    {
     "name": "stdout",
     "output_type": "stream",
     "text": [
      "H0 is rejected: There is an association between gender and music preference.\n"
     ]
    }
   ],
   "source": [
    "if chi_test_2 > Chi_table_2:\n",
    "    print(\"H0 is rejected: There is an association between gender and music preference.\")\n",
    "else:\n",
    "    print(\"H0 is not rejected: There is no significant association between gender and music preference.\")"
   ]
  }
 ],
 "metadata": {
  "kernelspec": {
   "display_name": "Python 3",
   "language": "python",
   "name": "python3"
  },
  "language_info": {
   "codemirror_mode": {
    "name": "ipython",
    "version": 3
   },
   "file_extension": ".py",
   "mimetype": "text/x-python",
   "name": "python",
   "nbconvert_exporter": "python",
   "pygments_lexer": "ipython3",
   "version": "3.9.13"
  }
 },
 "nbformat": 4,
 "nbformat_minor": 5
}
